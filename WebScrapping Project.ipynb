{
 "cells": [
  {
   "cell_type": "markdown",
   "id": "2cf0b629",
   "metadata": {},
   "source": [
    "Suppose you want some information from a website? Let’s say a paragraph on Donald Trump! What do you do? Well, you can copy and paste the information from Wikipedia to your own file. But what if you want to get large amounts of information from a website as quickly as possible? Such as large amounts of data from a website to train a Machine Learning algorithm? In such a situation, copying and pasting will not work! And that’s when you’ll need to use Web Scraping.\n",
    "\n",
    "\n",
    "####  Web scraping is an automatic method to obtain large amounts of data from websites"
   ]
  },
  {
   "cell_type": "code",
   "execution_count": 2,
   "id": "1cffd599",
   "metadata": {},
   "outputs": [],
   "source": [
    "import requests\n",
    "from bs4 import BeautifulSoup as bs\n",
    "from urllib.request import urlopen as uReq\n",
    "import logging\n"
   ]
  },
  {
   "cell_type": "code",
   "execution_count": 65,
   "id": "f8d5af97",
   "metadata": {},
   "outputs": [],
   "source": [
    "flipcart_url = \"https://www.flipkart.com/search?q=\" + \"redmi\""
   ]
  },
  {
   "cell_type": "code",
   "execution_count": 66,
   "id": "afaa5ca9",
   "metadata": {},
   "outputs": [
    {
     "data": {
      "text/plain": [
       "'https://www.flipkart.com/search?q=redmi'"
      ]
     },
     "execution_count": 66,
     "metadata": {},
     "output_type": "execute_result"
    }
   ],
   "source": [
    "flipcart_url"
   ]
  },
  {
   "cell_type": "code",
   "execution_count": 67,
   "id": "7867e415",
   "metadata": {},
   "outputs": [],
   "source": [
    "urlclient = uReq(flipcart_url)"
   ]
  },
  {
   "cell_type": "code",
   "execution_count": 68,
   "id": "2c188abe",
   "metadata": {},
   "outputs": [],
   "source": [
    "flipkart_page = urlclient.read()"
   ]
  },
  {
   "cell_type": "code",
   "execution_count": 69,
   "id": "8bb3e918",
   "metadata": {},
   "outputs": [],
   "source": [
    "flipcart_html = bs(flipkart_page,'html.parser')"
   ]
  },
  {
   "cell_type": "code",
   "execution_count": 70,
   "id": "6e1caa68",
   "metadata": {},
   "outputs": [
    {
     "data": {
      "text/plain": [
       "'https://www.flipkart.com/apple-iphone-13-starlight-128-gb/p/itmc9604f122ae7f?pid=MOBG6VF5ADKHKXFX&lid=LSTMOBG6VF5ADKHKXFXQGX7PK&marketplace=FLIPKART&q=iphone+13&store=tyy%2F4io&srno=s_1_1&otracker=AS_QueryStore_OrganicAutoSuggest_1_6_na_na_na&otracker1=AS_QueryStore_OrganicAutoSuggest_1_6_na_na_na&fm=organic&iid=82eaf878-7444-4a63-80fb-29c1d499bd15.MOBG6VF5ADKHKXFX.SEARCH&ppt=hp&ppn=homepage&ssid=jdmxikwi1c0000001681048777743&qH=c68a3b83214bb235'"
      ]
     },
     "execution_count": 70,
     "metadata": {},
     "output_type": "execute_result"
    }
   ],
   "source": [
    " \"https://www.flipkart.com/\"+\"apple-iphone-13-starlight-128-gb/p/itmc9604f122ae7f?pid=MOBG6VF5ADKHKXFX&lid=LSTMOBG6VF5ADKHKXFXQGX7PK&marketplace=FLIPKART&q=iphone+13&store=tyy%2F4io&srno=s_1_1&otracker=AS_QueryStore_OrganicAutoSuggest_1_6_na_na_na&otracker1=AS_QueryStore_OrganicAutoSuggest_1_6_na_na_na&fm=organic&iid=82eaf878-7444-4a63-80fb-29c1d499bd15.MOBG6VF5ADKHKXFX.SEARCH&ppt=hp&ppn=homepage&ssid=jdmxikwi1c0000001681048777743&qH=c68a3b83214bb235\""
   ]
  },
  {
   "cell_type": "code",
   "execution_count": 71,
   "id": "6dd2b94a",
   "metadata": {},
   "outputs": [],
   "source": [
    "bigbox = flipcart_html.findAll(\"div\" , {\"class\":\"_1AtVbE col-12-12\"})"
   ]
  },
  {
   "cell_type": "code",
   "execution_count": 72,
   "id": "e7cd0f22",
   "metadata": {},
   "outputs": [
    {
     "data": {
      "text/plain": [
       "29"
      ]
     },
     "execution_count": 72,
     "metadata": {},
     "output_type": "execute_result"
    }
   ],
   "source": [
    "len(bigbox)"
   ]
  },
  {
   "cell_type": "code",
   "execution_count": 73,
   "id": "dc65027d",
   "metadata": {},
   "outputs": [],
   "source": [
    "del bigbox[0:3]"
   ]
  },
  {
   "cell_type": "code",
   "execution_count": 74,
   "id": "8e860d7c",
   "metadata": {},
   "outputs": [],
   "source": [
    "productlink = \"https://www.flipkart.com\"+bigbox[3].div.div.div.a['href']"
   ]
  },
  {
   "cell_type": "code",
   "execution_count": 75,
   "id": "e33fedf7",
   "metadata": {},
   "outputs": [],
   "source": [
    "product_req = requests.get(productlink)"
   ]
  },
  {
   "cell_type": "code",
   "execution_count": 76,
   "id": "2e40060d",
   "metadata": {},
   "outputs": [
    {
     "data": {
      "text/plain": [
       "'https://www.flipkart.com/redmi-a1-light-green-32-gb/p/itmecc9e7ba0a1df?pid=MOBGGYBAHSAJVKHP&lid=LSTMOBGGYBAHSAJVKHPLQ4OVB&marketplace=FLIPKART&q=redmi&store=search.flipkart.com&srno=s_1_6&otracker=search&fm=organic&iid=f555aead-4b37-4c8b-a6a7-7971dfe7aa6f.MOBGGYBAHSAJVKHP.SEARCH&ppt=None&ppn=None&ssid=9e0ho3pbao0000001681100596204&qH=9b6bf0057c19bd94'"
      ]
     },
     "execution_count": 76,
     "metadata": {},
     "output_type": "execute_result"
    }
   ],
   "source": [
    "productlink"
   ]
  },
  {
   "cell_type": "markdown",
   "id": "49b3b900",
   "metadata": {},
   "source": [
    "## Finding all names From reviews"
   ]
  },
  {
   "cell_type": "code",
   "execution_count": 77,
   "id": "31e8ae2c",
   "metadata": {},
   "outputs": [],
   "source": [
    "product_html = bs(product_req.text, 'html.parser')"
   ]
  },
  {
   "cell_type": "code",
   "execution_count": 78,
   "id": "b591c500",
   "metadata": {},
   "outputs": [],
   "source": [
    "comment_box = product_html.find_all(\"div\",{\"class\" : \"_16PBlm\"})"
   ]
  },
  {
   "cell_type": "code",
   "execution_count": 79,
   "id": "fcc6f5f3",
   "metadata": {},
   "outputs": [
    {
     "data": {
      "text/plain": [
       "11"
      ]
     },
     "execution_count": 79,
     "metadata": {},
     "output_type": "execute_result"
    }
   ],
   "source": [
    "len(comment_box)"
   ]
  },
  {
   "cell_type": "code",
   "execution_count": 80,
   "id": "fe005976",
   "metadata": {},
   "outputs": [
    {
     "data": {
      "text/plain": [
       "'Flipkart Customer'"
      ]
     },
     "execution_count": 80,
     "metadata": {},
     "output_type": "execute_result"
    }
   ],
   "source": [
    "comment_box[0].div.div.find_all('p',{\"class\":\"_2sc7ZR _2V5EHH\"})[0].text"
   ]
  },
  {
   "cell_type": "code",
   "execution_count": 81,
   "id": "458e0509",
   "metadata": {},
   "outputs": [
    {
     "name": "stdout",
     "output_type": "stream",
     "text": [
      "Flipkart Customer\n",
      "Fajlul Karim\n",
      "Abhinav  Priyadarshi\n",
      "Pankaj Goswami\n",
      "Ramdev Sarswat\n",
      "Flipkart Customer\n",
      "Nithi D\n",
      "Ajzar\n",
      "Anas Siddiqui \n",
      "TAPESH PRAJAPATI\n"
     ]
    },
    {
     "ename": "AttributeError",
     "evalue": "'NoneType' object has no attribute 'div'",
     "output_type": "error",
     "traceback": [
      "\u001b[1;31m---------------------------------------------------------------------------\u001b[0m",
      "\u001b[1;31mAttributeError\u001b[0m                            Traceback (most recent call last)",
      "Cell \u001b[1;32mIn[81], line 2\u001b[0m\n\u001b[0;32m      1\u001b[0m \u001b[38;5;28;01mfor\u001b[39;00m i \u001b[38;5;129;01min\u001b[39;00m comment_box:\n\u001b[1;32m----> 2\u001b[0m     \u001b[38;5;28mprint\u001b[39m(\u001b[43mi\u001b[49m\u001b[38;5;241;43m.\u001b[39;49m\u001b[43mdiv\u001b[49m\u001b[38;5;241;43m.\u001b[39;49m\u001b[43mdiv\u001b[49m\u001b[38;5;241m.\u001b[39mfind_all(\u001b[38;5;124m'\u001b[39m\u001b[38;5;124mp\u001b[39m\u001b[38;5;124m'\u001b[39m,{\u001b[38;5;124m\"\u001b[39m\u001b[38;5;124mclass\u001b[39m\u001b[38;5;124m\"\u001b[39m:\u001b[38;5;124m\"\u001b[39m\u001b[38;5;124m_2sc7ZR _2V5EHH\u001b[39m\u001b[38;5;124m\"\u001b[39m})[\u001b[38;5;241m0\u001b[39m]\u001b[38;5;241m.\u001b[39mtext)\n",
      "\u001b[1;31mAttributeError\u001b[0m: 'NoneType' object has no attribute 'div'"
     ]
    }
   ],
   "source": [
    "for i in comment_box:\n",
    "    print(i.div.div.find_all('p',{\"class\":\"_2sc7ZR _2V5EHH\"})[0].text)"
   ]
  },
  {
   "cell_type": "code",
   "execution_count": 82,
   "id": "47e618cb",
   "metadata": {},
   "outputs": [
    {
     "data": {
      "text/plain": [
       "'5'"
      ]
     },
     "execution_count": 82,
     "metadata": {},
     "output_type": "execute_result"
    }
   ],
   "source": [
    "comment_box[0].div.div.div.div.text"
   ]
  },
  {
   "cell_type": "code",
   "execution_count": 83,
   "id": "4473f6bb",
   "metadata": {},
   "outputs": [
    {
     "name": "stdout",
     "output_type": "stream",
     "text": [
      "5\n",
      "5\n",
      "5\n",
      "5\n",
      "5\n",
      "5\n",
      "5\n",
      "5\n",
      "5\n",
      "5\n",
      "5\n"
     ]
    }
   ],
   "source": [
    "for i in comment_box:\n",
    "    print(comment_box[0].div.div.div.div.text)"
   ]
  },
  {
   "cell_type": "code",
   "execution_count": 84,
   "id": "3fe3df9e",
   "metadata": {},
   "outputs": [
    {
     "data": {
      "text/plain": [
       "'Highly recommended'"
      ]
     },
     "execution_count": 84,
     "metadata": {},
     "output_type": "execute_result"
    }
   ],
   "source": [
    "comment_box[0].div.div.div.p.text"
   ]
  },
  {
   "cell_type": "code",
   "execution_count": 85,
   "id": "f14a667e",
   "metadata": {
    "collapsed": true
   },
   "outputs": [
    {
     "name": "stdout",
     "output_type": "stream",
     "text": [
      "Highly recommended\n",
      "Super!\n",
      "Delightful\n",
      "Worst experience ever!\n",
      "Terrible product\n",
      "Mind-blowing purchase\n",
      "Good phone in the price range\n",
      "Highly recommended\n",
      "Utterly Disappointed\n",
      "Simply awesome\n"
     ]
    },
    {
     "ename": "AttributeError",
     "evalue": "'NoneType' object has no attribute 'div'",
     "output_type": "error",
     "traceback": [
      "\u001b[1;31m---------------------------------------------------------------------------\u001b[0m",
      "\u001b[1;31mAttributeError\u001b[0m                            Traceback (most recent call last)",
      "Cell \u001b[1;32mIn[85], line 2\u001b[0m\n\u001b[0;32m      1\u001b[0m \u001b[38;5;28;01mfor\u001b[39;00m i \u001b[38;5;129;01min\u001b[39;00m comment_box:\n\u001b[1;32m----> 2\u001b[0m     \u001b[38;5;28mprint\u001b[39m(\u001b[43mi\u001b[49m\u001b[38;5;241;43m.\u001b[39;49m\u001b[43mdiv\u001b[49m\u001b[38;5;241;43m.\u001b[39;49m\u001b[43mdiv\u001b[49m\u001b[38;5;241m.\u001b[39mdiv\u001b[38;5;241m.\u001b[39mp\u001b[38;5;241m.\u001b[39mtext)\n",
      "\u001b[1;31mAttributeError\u001b[0m: 'NoneType' object has no attribute 'div'"
     ]
    }
   ],
   "source": [
    "for i in comment_box:\n",
    "    print(i.div.div.div.p.text)"
   ]
  },
  {
   "cell_type": "code",
   "execution_count": 86,
   "id": "8350a451",
   "metadata": {},
   "outputs": [
    {
     "data": {
      "text/plain": [
       "'good cameraREAD MORE'"
      ]
     },
     "execution_count": 86,
     "metadata": {},
     "output_type": "execute_result"
    }
   ],
   "source": [
    "comment_box[0].div.div.find_all('div',{\"class\" : \"t-ZTKy\"})[0].div.text"
   ]
  },
  {
   "cell_type": "code",
   "execution_count": 87,
   "id": "71da0a52",
   "metadata": {
    "scrolled": false
   },
   "outputs": [
    {
     "name": "stdout",
     "output_type": "stream",
     "text": [
      "good cameraREAD MORE\n",
      "Awesome productREAD MORE\n",
      "After almost 2 months of use i think you can go for it for minimum budgetREAD MORE\n",
      "Worst phone i had ever used. Better to buy Realme phones.READ MORE\n",
      "Hanging problem in mobile ,  Please don't purchase ...READ MORE\n",
      "Very nice phoneREAD MORE\n",
      "It's a good buy, but the finger print sensor is not that responsive.  Don't go for it if you prefer a smaller size phone, it looks huge in my tiny handsREAD MORE\n",
      "Nice product under 10kREAD MORE\n",
      "Not interested phone very bad proceser very bad phoneREAD MORE\n",
      "Good phoneREAD MORE\n"
     ]
    },
    {
     "ename": "AttributeError",
     "evalue": "'NoneType' object has no attribute 'div'",
     "output_type": "error",
     "traceback": [
      "\u001b[1;31m---------------------------------------------------------------------------\u001b[0m",
      "\u001b[1;31mAttributeError\u001b[0m                            Traceback (most recent call last)",
      "Cell \u001b[1;32mIn[87], line 2\u001b[0m\n\u001b[0;32m      1\u001b[0m \u001b[38;5;28;01mfor\u001b[39;00m i \u001b[38;5;129;01min\u001b[39;00m comment_box:\n\u001b[1;32m----> 2\u001b[0m     \u001b[38;5;28mprint\u001b[39m(\u001b[43mi\u001b[49m\u001b[38;5;241;43m.\u001b[39;49m\u001b[43mdiv\u001b[49m\u001b[38;5;241;43m.\u001b[39;49m\u001b[43mdiv\u001b[49m\u001b[38;5;241m.\u001b[39mfind_all(\u001b[38;5;124m'\u001b[39m\u001b[38;5;124mdiv\u001b[39m\u001b[38;5;124m'\u001b[39m,{\u001b[38;5;124m\"\u001b[39m\u001b[38;5;124mclass\u001b[39m\u001b[38;5;124m\"\u001b[39m : \u001b[38;5;124m\"\u001b[39m\u001b[38;5;124mt-ZTKy\u001b[39m\u001b[38;5;124m\"\u001b[39m})[\u001b[38;5;241m0\u001b[39m]\u001b[38;5;241m.\u001b[39mdiv\u001b[38;5;241m.\u001b[39mtext)\n",
      "\u001b[1;31mAttributeError\u001b[0m: 'NoneType' object has no attribute 'div'"
     ]
    }
   ],
   "source": [
    "for i in comment_box:\n",
    "    print(i.div.div.find_all('div',{\"class\" : \"t-ZTKy\"})[0].div.text)"
   ]
  },
  {
   "cell_type": "code",
   "execution_count": 89,
   "id": "be19cda4",
   "metadata": {},
   "outputs": [
    {
     "name": "stdout",
     "output_type": "stream",
     "text": [
      "https://www.flipkart.com/redmi-10-midnight-black-64-gb/p/itmd93641e4ebb47?pid=MOBGC9GYEBH3GZ4E&lid=LSTMOBGC9GYEBH3GZ4E44YY0L&marketplace=FLIPKART&q=redmi&store=search.flipkart.com&srno=s_1_3&otracker=search&fm=organic&iid=f555aead-4b37-4c8b-a6a7-7971dfe7aa6f.MOBGC9GYEBH3GZ4E.SEARCH&ppt=None&ppn=None&ssid=9e0ho3pbao0000001681100596204&qH=9b6bf0057c19bd94\n",
      "https://www.flipkart.com/redmi-a1-light-blue-32-gb/p/itm4999515e917f6?pid=MOBGGYBAN8HMVT5P&lid=LSTMOBGGYBAN8HMVT5PWUDNSV&marketplace=FLIPKART&q=redmi&store=search.flipkart.com&srno=s_1_4&otracker=search&fm=organic&iid=f555aead-4b37-4c8b-a6a7-7971dfe7aa6f.MOBGGYBAN8HMVT5P.SEARCH&ppt=None&ppn=None&ssid=9e0ho3pbao0000001681100596204&qH=9b6bf0057c19bd94\n",
      "https://www.flipkart.com/redmi-10-shadow-black-64-gb/p/itm0f35cd8b62294?pid=MOBGMPHFVU6NNDH5&lid=LSTMOBGMPHFVU6NNDH5AK0YVP&marketplace=FLIPKART&q=redmi&store=search.flipkart.com&srno=s_1_5&otracker=search&fm=organic&iid=f555aead-4b37-4c8b-a6a7-7971dfe7aa6f.MOBGMPHFVU6NNDH5.SEARCH&ppt=None&ppn=None&ssid=9e0ho3pbao0000001681100596204&qH=9b6bf0057c19bd94\n",
      "https://www.flipkart.com/redmi-a1-light-green-32-gb/p/itmecc9e7ba0a1df?pid=MOBGGYBAHSAJVKHP&lid=LSTMOBGGYBAHSAJVKHPLQ4OVB&marketplace=FLIPKART&q=redmi&store=search.flipkart.com&srno=s_1_6&otracker=search&fm=organic&iid=f555aead-4b37-4c8b-a6a7-7971dfe7aa6f.MOBGGYBAHSAJVKHP.SEARCH&ppt=None&ppn=None&ssid=9e0ho3pbao0000001681100596204&qH=9b6bf0057c19bd94\n",
      "https://www.flipkart.com/redmi-10-caribbean-green-128-gb/p/itm2389889c22bf0?pid=MOBGC9GYQVJHKH76&lid=LSTMOBGC9GYQVJHKH76IXAL5V&marketplace=FLIPKART&q=redmi&store=search.flipkart.com&srno=s_1_7&otracker=search&fm=organic&iid=f555aead-4b37-4c8b-a6a7-7971dfe7aa6f.MOBGC9GYQVJHKH76.SEARCH&ppt=None&ppn=None&ssid=9e0ho3pbao0000001681100596204&qH=9b6bf0057c19bd94\n",
      "https://www.flipkart.com/redmi-10-pacific-blue-128-gb/p/itmeee56f3526c69?pid=MOBGC9GYMXA2XAH4&lid=LSTMOBGC9GYMXA2XAH4QEHS0T&marketplace=FLIPKART&q=redmi&store=search.flipkart.com&srno=s_1_8&otracker=search&fm=organic&iid=f555aead-4b37-4c8b-a6a7-7971dfe7aa6f.MOBGC9GYMXA2XAH4.SEARCH&ppt=None&ppn=None&ssid=9e0ho3pbao0000001681100596204&qH=9b6bf0057c19bd94\n",
      "https://www.flipkart.com/redmi-a1-black-32-gb/p/itmd99af07d86a4e?pid=MOBGHFFTYPRZSYZU&lid=LSTMOBGHFFTYPRZSYZURRNFIM&marketplace=FLIPKART&q=redmi&store=search.flipkart.com&srno=s_1_9&otracker=search&fm=organic&iid=f555aead-4b37-4c8b-a6a7-7971dfe7aa6f.MOBGHFFTYPRZSYZU.SEARCH&ppt=None&ppn=None&ssid=9e0ho3pbao0000001681100596204&qH=9b6bf0057c19bd94\n",
      "https://www.flipkart.com/redmi-10-sunrise-orange-64-gb/p/itmae4c7ad2665f3?pid=MOBGMPHF9TDM2MM3&lid=LSTMOBGMPHF9TDM2MM39RM7JR&marketplace=FLIPKART&q=redmi&store=search.flipkart.com&srno=s_1_10&otracker=search&fm=organic&iid=f555aead-4b37-4c8b-a6a7-7971dfe7aa6f.MOBGMPHF9TDM2MM3.SEARCH&ppt=None&ppn=None&ssid=9e0ho3pbao0000001681100596204&qH=9b6bf0057c19bd94\n",
      "https://www.flipkart.com/redmi-9-activ-carbon-black-128-gb/p/itmf83af57e767aa?pid=MOBG7FNGXYZDS6YY&lid=LSTMOBG7FNGXYZDS6YYCMPBML&marketplace=FLIPKART&q=redmi&store=search.flipkart.com&srno=s_1_11&otracker=search&fm=organic&iid=f555aead-4b37-4c8b-a6a7-7971dfe7aa6f.MOBG7FNGXYZDS6YY.SEARCH&ppt=None&ppn=None&ssid=9e0ho3pbao0000001681100596204&qH=9b6bf0057c19bd94\n",
      "https://www.flipkart.com/redmi-a1-light-blue-32-gb/p/itm16e357f7cb26e?pid=MOBGHFFTPD8XDWDW&lid=LSTMOBGHFFTPD8XDWDW7J31ZM&marketplace=FLIPKART&q=redmi&store=search.flipkart.com&srno=s_1_12&otracker=search&fm=organic&iid=f555aead-4b37-4c8b-a6a7-7971dfe7aa6f.MOBGHFFTPD8XDWDW.SEARCH&ppt=None&ppn=None&ssid=9e0ho3pbao0000001681100596204&qH=9b6bf0057c19bd94\n",
      "https://www.flipkart.com/redmi-a1-light-green-32-gb/p/itma613ca74c6f06?pid=MOBGHFFT4DJHDZEQ&lid=LSTMOBGHFFT4DJHDZEQZQAXJ3&marketplace=FLIPKART&q=redmi&store=search.flipkart.com&srno=s_1_13&otracker=search&fm=organic&iid=f555aead-4b37-4c8b-a6a7-7971dfe7aa6f.MOBGHFFT4DJHDZEQ.SEARCH&ppt=None&ppn=None&ssid=9e0ho3pbao0000001681100596204&qH=9b6bf0057c19bd94\n",
      "https://www.flipkart.com/redmi-9-activ-coral-green-128-gb/p/itmf8e24fc354f15?pid=MOBG7FNGKTZMF2FQ&lid=LSTMOBG7FNGKTZMF2FQHCRQ1Z&marketplace=FLIPKART&q=redmi&store=search.flipkart.com&srno=s_1_14&otracker=search&fm=organic&iid=f555aead-4b37-4c8b-a6a7-7971dfe7aa6f.MOBG7FNGKTZMF2FQ.SEARCH&ppt=None&ppn=None&ssid=9e0ho3pbao0000001681100596204&qH=9b6bf0057c19bd94\n",
      "https://www.flipkart.com/redmi-10-caribbean-green-64-gb/p/itmbfb8dfcdd6e10?pid=MOBGC9GYQGGKWEU3&lid=LSTMOBGC9GYQGGKWEU3SLBNSD&marketplace=FLIPKART&q=redmi&store=search.flipkart.com&srno=s_1_15&otracker=search&fm=organic&iid=f555aead-4b37-4c8b-a6a7-7971dfe7aa6f.MOBGC9GYQGGKWEU3.SEARCH&ppt=None&ppn=None&ssid=9e0ho3pbao0000001681100596204&qH=9b6bf0057c19bd94\n",
      "https://www.flipkart.com/redmi-note-12-pro-5g-stardust-purple-128-gb/p/itm26c8ff9d1f226?pid=MOBGH2UVWWDA4MS6&lid=LSTMOBGH2UVWWDA4MS6M7LVCT&marketplace=FLIPKART&q=redmi&store=search.flipkart.com&srno=s_1_16&otracker=search&fm=organic&iid=f555aead-4b37-4c8b-a6a7-7971dfe7aa6f.MOBGH2UVWWDA4MS6.SEARCH&ppt=None&ppn=None&ssid=9e0ho3pbao0000001681100596204&qH=9b6bf0057c19bd94\n",
      "https://www.flipkart.com/redmi-21-59cm-8-5-inch-lcd-writing-pad-smart-lock-abs-material-kids-adults/p/itm0cf80d35651cb?pid=ETYGGWZZVNRBWPDP&lid=LSTETYGGWZZVNRBWPDPKWJOBY&marketplace=FLIPKART&q=redmi&store=search.flipkart.com&srno=s_1_17&otracker=search&fm=organic&iid=f555aead-4b37-4c8b-a6a7-7971dfe7aa6f.ETYGGWZZVNRBWPDP.SEARCH&ppt=None&ppn=None&ssid=9e0ho3pbao0000001681100596204&qH=9b6bf0057c19bd94\n",
      "https://www.flipkart.com/redmi-note-12-pro-5g-glacier-blue-128-gb/p/itm8fbee21008560?pid=MOBGH2UVZHHQGRRP&lid=LSTMOBGH2UVZHHQGRRPHUPSMM&marketplace=FLIPKART&q=redmi&store=search.flipkart.com&srno=s_1_18&otracker=search&fm=organic&iid=f555aead-4b37-4c8b-a6a7-7971dfe7aa6f.MOBGH2UVZHHQGRRP.SEARCH&ppt=None&ppn=None&ssid=9e0ho3pbao0000001681100596204&qH=9b6bf0057c19bd94\n",
      "https://www.flipkart.com/redmi-mi-hi-resolution-audio-wired-headset/p/itm19b5b6d980c4b?pid=ACCFUT9H27KDZH8K&lid=LSTACCFUT9H27KDZH8K54ZKPQ&marketplace=FLIPKART&q=redmi&store=search.flipkart.com&srno=s_1_19&otracker=search&fm=organic&iid=f555aead-4b37-4c8b-a6a7-7971dfe7aa6f.ACCFUT9H27KDZH8K.SEARCH&ppt=None&ppn=None&ssid=9e0ho3pbao0000001681100596204&qH=9b6bf0057c19bd94\n",
      "https://www.flipkart.com/redmi-20000-mah-power-bank-18-w-fast-charging/p/itmce0986bcfe789?pid=PWBFU2HWZGF9BEGP&lid=LSTPWBFU2HWZGF9BEGPYYEQER&marketplace=FLIPKART&q=redmi&store=search.flipkart.com&srno=s_1_20&otracker=search&fm=organic&iid=f555aead-4b37-4c8b-a6a7-7971dfe7aa6f.PWBFU2HWZGF9BEGP.SEARCH&ppt=None&ppn=None&ssid=9e0ho3pbao0000001681100596204&qH=9b6bf0057c19bd94\n",
      "https://www.flipkart.com/redmi-20000-mah-power-bank-18-w-fast-charging/p/itmce0986bcfe789?pid=PWBFU2HWRYUD9HHE&lid=LSTPWBFU2HWRYUD9HHE7KCIFP&marketplace=FLIPKART&q=redmi&store=search.flipkart.com&srno=s_1_21&otracker=search&fm=organic&iid=f555aead-4b37-4c8b-a6a7-7971dfe7aa6f.PWBFU2HWRYUD9HHE.SEARCH&ppt=None&ppn=None&ssid=9e0ho3pbao0000001681100596204&qH=9b6bf0057c19bd94\n",
      "https://www.flipkart.com/redmibook-pro-core-i5-11th-gen-8-gb-512-gb-ssd-windows-11-home-thin-light-laptop/p/itm436427e982703?pid=COMG4Z359A4Z3MFG&lid=LSTCOMG4Z359A4Z3MFGOJQLGB&marketplace=FLIPKART&q=redmi&store=search.flipkart.com&srno=s_1_22&otracker=search&fm=organic&iid=f555aead-4b37-4c8b-a6a7-7971dfe7aa6f.COMG4Z359A4Z3MFG.SEARCH&ppt=None&ppn=None&ssid=9e0ho3pbao0000001681100596204&qH=9b6bf0057c19bd94\n",
      "https://www.flipkart.com/redmi-mi-hi-resolution-audio-wired-headset/p/itmcb8137b89be2a?pid=ACCFUT9HGEZ5XNKZ&lid=LSTACCFUT9HGEZ5XNKZAOG4KW&marketplace=FLIPKART&q=redmi&store=search.flipkart.com&srno=s_1_23&otracker=search&fm=organic&iid=f555aead-4b37-4c8b-a6a7-7971dfe7aa6f.ACCFUT9HGEZ5XNKZ.SEARCH&ppt=None&ppn=None&ssid=9e0ho3pbao0000001681100596204&qH=9b6bf0057c19bd94\n",
      "https://www.flipkart.com/redmi-10000-mah-power-bank-10-w-fast-charging/p/itm22a1cbda7da7f?pid=PWBFU2HWXDJBASNG&lid=LSTPWBFU2HWXDJBASNGGRSL65&marketplace=FLIPKART&q=redmi&store=search.flipkart.com&srno=s_1_24&otracker=search&fm=organic&iid=f555aead-4b37-4c8b-a6a7-7971dfe7aa6f.PWBFU2HWXDJBASNG.SEARCH&ppt=None&ppn=None&ssid=9e0ho3pbao0000001681100596204&qH=9b6bf0057c19bd94\n"
     ]
    },
    {
     "ename": "AttributeError",
     "evalue": "'NoneType' object has no attribute 'a'",
     "output_type": "error",
     "traceback": [
      "\u001b[1;31m---------------------------------------------------------------------------\u001b[0m",
      "\u001b[1;31mAttributeError\u001b[0m                            Traceback (most recent call last)",
      "Cell \u001b[1;32mIn[89], line 2\u001b[0m\n\u001b[0;32m      1\u001b[0m \u001b[38;5;28;01mfor\u001b[39;00m i \u001b[38;5;129;01min\u001b[39;00m bigbox:\n\u001b[1;32m----> 2\u001b[0m     \u001b[38;5;28mprint\u001b[39m(\u001b[38;5;124m\"\u001b[39m\u001b[38;5;124mhttps://www.flipkart.com\u001b[39m\u001b[38;5;124m\"\u001b[39m\u001b[38;5;241m+\u001b[39m\u001b[43mi\u001b[49m\u001b[38;5;241;43m.\u001b[39;49m\u001b[43mdiv\u001b[49m\u001b[38;5;241;43m.\u001b[39;49m\u001b[43mdiv\u001b[49m\u001b[38;5;241;43m.\u001b[39;49m\u001b[43mdiv\u001b[49m\u001b[38;5;241;43m.\u001b[39;49m\u001b[43ma\u001b[49m[\u001b[38;5;124m'\u001b[39m\u001b[38;5;124mhref\u001b[39m\u001b[38;5;124m'\u001b[39m])\n",
      "\u001b[1;31mAttributeError\u001b[0m: 'NoneType' object has no attribute 'a'"
     ]
    }
   ],
   "source": [
    "for i in bigbox:\n",
    "    print(\"https://www.flipkart.com\"+i.div.div.div.a['href'])"
   ]
  },
  {
   "cell_type": "code",
   "execution_count": null,
   "id": "cbe444a5",
   "metadata": {},
   "outputs": [],
   "source": []
  }
 ],
 "metadata": {
  "kernelspec": {
   "display_name": "Python 3 (ipykernel)",
   "language": "python",
   "name": "python3"
  },
  "language_info": {
   "codemirror_mode": {
    "name": "ipython",
    "version": 3
   },
   "file_extension": ".py",
   "mimetype": "text/x-python",
   "name": "python",
   "nbconvert_exporter": "python",
   "pygments_lexer": "ipython3",
   "version": "3.11.2"
  }
 },
 "nbformat": 4,
 "nbformat_minor": 5
}
